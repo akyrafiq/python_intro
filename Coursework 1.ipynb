{
 "cells": [
  {
   "cell_type": "markdown",
   "metadata": {},
   "source": [
    "# Coursework"
   ]
  },
  {
   "cell_type": "markdown",
   "metadata": {},
   "source": [
    "## Question 2: Unimodal Sequences\n",
    "\n",
    "A list of integers $A_0, A_1, . . . , A_{n−1}$ of length n is called unimodal if there is some $i$ such that:\n",
    "\n",
    "\n",
    "$A_0 ≤ A_1 ≤ . . . A_{i−1} ≤ A_i$ and $A_i ≥ A_{i+1} ≥ · · · ≥ A_{n−1}$.\n",
    "\n",
    "For example, the list A = [1,2,3,5,2] is unimodal, while Z = [4,5,2,3] is not unimodal. We\n",
    "also consider lists such as B = [0,2,5,8,8] and C = [9,4,2,1] to be unimodal.\n",
    "Write a Python function maxUnimodal(A) that, given a list A, returns the last index i where\n",
    "the maximum value A[i] is attained if the array is unimodal, and returns None if the array is\n",
    "not unimodal. In the examples above, maxUnimodal(A) should return 3, maxUnimodal(B) should\n",
    "return 4, maxUnimodal(C) should return 0, and maxUnimodal(Z) should return None."
   ]
  },
  {
   "cell_type": "markdown",
   "metadata": {},
   "source": [
    "The first part to this question is fairly simple- Finding the peak element in a unimodal sequence has alreayd been done in your first two home works with the following function:"
   ]
  },
  {
   "cell_type": "code",
   "execution_count": null,
   "metadata": {},
   "outputs": [],
   "source": [
    "def peak1d_iterative ( A ) :\n",
    "    for i in range (0 , len( A ) -1) :\n",
    "        if A [ i ] > A [ i +1]:\n",
    "            return A[i]\n",
    "    return len( A ) -1"
   ]
  },
  {
   "cell_type": "markdown",
   "metadata": {},
   "source": [
    "However this function simply assumes our sequence is unimodal. It shall return an index regardless of the type of function. So how can we tell if a sequence is _not_ unimodal? \n",
    "\n",
    "I present you the following condition:\n",
    "\n",
    "_A list of integers $A_0, A_1, . . . , A_{n−1}$ of length n is called  NOT unimodal if there is exists an $i$ such that:_\n",
    "\n",
    "\n",
    "$A_i ≤ A_{i-1}$ and $A_i ≤ A_{i+1}$.\n",
    "\n",
    "Does this make sense? Let's try and construct a function that tests this."
   ]
  },
  {
   "cell_type": "code",
   "execution_count": 12,
   "metadata": {},
   "outputs": [],
   "source": [
    "def is_unimodal(A):\n",
    "    for i in range (1 , len( A ) -1) :\n",
    "        if A[i]<A[i+1] and A[i]<A[i-1]:\n",
    "            return 'None'\n",
    "    return \"Unimodal\""
   ]
  },
  {
   "cell_type": "markdown",
   "metadata": {},
   "source": [
    "I reccomend testing it out on these sets:"
   ]
  },
  {
   "cell_type": "code",
   "execution_count": 13,
   "metadata": {},
   "outputs": [
    {
     "data": {
      "text/plain": [
       "'None'"
      ]
     },
     "execution_count": 13,
     "metadata": {},
     "output_type": "execute_result"
    }
   ],
   "source": [
    "A = [1,2,3,5,2];\n",
    "Z = [4,5,2,3];\n",
    "B = [0,2,5,8,8];\n",
    "C = [9,4,2,1] ;\n",
    "\n",
    "is_unimodal(Z)"
   ]
  },
  {
   "cell_type": "markdown",
   "metadata": {},
   "source": [
    "Now you just need to combine our functions to form our _maxUnimodal_ function:"
   ]
  },
  {
   "cell_type": "code",
   "execution_count": null,
   "metadata": {},
   "outputs": [],
   "source": [
    "def maxUnimodal(A):"
   ]
  },
  {
   "cell_type": "markdown",
   "metadata": {},
   "source": [
    "## Question 3: Doubly Linked Lists"
   ]
  },
  {
   "cell_type": "markdown",
   "metadata": {},
   "source": [
    "A doubly linked list, just like a singly linked list, consists of a collection of nodes that are joined\n",
    "together by a next field inside each node. The only difference is that there is also a prev field that\n",
    "links a node back to the previous node. Using the template file DoublyLinkedList.py on Moodle,\n",
    "implement a doubly linked list class called DoublyLinkedList. In particular, the list should have\n",
    "a head and a tail, and there should be the following:\n",
    "\n",
    "(a) A Node class with appropriate fields for a doubly linked list and an __init__ that initialises\n",
    "a node.\n",
    "\n",
    "(b) __init__ that initialises a doubly linked list.\n",
    "\n",
    "(c) __str__ that returns a string that represents the current state of the list in a form like the\n",
    "following, if the list contains the values 7, 6, 3, 4 in that order: \"List: 7 <-> 6 <-> 3 <-> 4\"\n",
    "\n",
    "(d) isEmpty that returns True if the list is empty and False if not.\n",
    "\n",
    "(e) insertAtHead that inserts an item in front of the head of the list, and adjusts the head so\n",
    "that it points to the new node.\n",
    "\n",
    "(f) insertAtTail that inserts an item after the tail of the list, and adjusts the tail so that it\n",
    "points to the new node.\n",
    "\n",
    "(g) popHead that returns the item at the head of the list, while removing that node and\n",
    "adjusting the head. If the list is empty, return None.\n",
    "\n",
    "(h) popTail that returns the item at the tail of the list, while removing that node and adjusting\n",
    "the tail. If the list is empty, return None."
   ]
  },
  {
   "cell_type": "code",
   "execution_count": null,
   "metadata": {},
   "outputs": [],
   "source": [
    "class Node:\n",
    "    # Replace the next two lines with your code for (a)\n",
    "    # def __init__(self):\n",
    "    None\n",
    "\n",
    "class DoublyLinkedList:\n",
    "    # Replace the next two lines with your code for (b)\n",
    "    def __init__(self):\n",
    "        None\n",
    "\n",
    "    def __str__(self):\n",
    "        # Replace the next line with your code for (c)\n",
    "        return \"String output\"\n",
    "\n",
    "    def isEmpty(self):\n",
    "        # Replace the next line with your code for (d)\n",
    "        return False\n",
    "\n",
    "    def insertAtHead(self, item):\n",
    "        # Replace the next line with your code for (e)\n",
    "        None\n",
    "\n",
    "    def insertAtTail(self, item):\n",
    "        # Replace the next line with your code for (f)\n",
    "        None\n",
    "\n",
    "    def popHead(self):\n",
    "        # Replace the next line with your code for (g)\n",
    "        return 0\n",
    "\n",
    "    def popTail(self):\n",
    "        # Replace the next line with your code for (h)\n",
    "        return 0\n",
    "\n",
    "if __name__ == '__main__':\n",
    "    A = DoublyLinkedList()\n",
    "    A.insertAtHead(6)\n",
    "    print(A)\n",
    "    A.insertAtHead(7)\n",
    "    print(A)\n",
    "    A.insertAtTail(3)\n",
    "    print(A)\n",
    "    A.insertAtTail(4)\n",
    "    print(A)\n",
    "    print(A.popHead())\n",
    "    print(A)\n",
    "    print(A.popTail())\n",
    "    print(A)\n",
    "    print(A.popTail())\n",
    "    print(A)\n",
    "    print(A.popTail())\n",
    "    print(A)\n",
    "    print(A.popTail())\n",
    "    print(A)\n",
    "# Output should be:\n",
    "# List: 6\n",
    "# List: 7 <-> 6\n",
    "# List: 7 <-> 6 <-> 3\n",
    "# List: 7 <-> 6 <-> 3 <-> 4\n",
    "# 7\n",
    "# List: 6 <-> 3 <-> 4\n",
    "# 4\n",
    "# List: 6 <-> 3\n",
    "# 3\n",
    "# List: 6\n",
    "# 6\n",
    "# List: Empty\n",
    "# None\n",
    "# List: Empty"
   ]
  },
  {
   "cell_type": "markdown",
   "metadata": {},
   "source": [
    "So I didn't have time to properly look at this in detail, but it is simply a function that looks at manipulating strings and will discuss in more detail tommorrow."
   ]
  },
  {
   "cell_type": "code",
   "execution_count": null,
   "metadata": {},
   "outputs": [],
   "source": [
    "def f(n):\n",
    "    if n<=0:\n",
    "        print(\"Function does not exist for non integers\")\n",
    "    elif n==1:\n",
    "        return 1\n",
    "    elif type(n)==float:\n",
    "        print(\"Function does not exist for non integers\")\n",
    "    else:\n",
    "        return f(n-1)+f(n//2)\n",
    "    \n",
    "i=500\n",
    "#print(f(i))\n",
    "f(i)"
   ]
  },
  {
   "cell_type": "code",
   "execution_count": 6,
   "metadata": {},
   "outputs": [
    {
     "data": {
      "text/plain": [
       "47"
      ]
     },
     "execution_count": 6,
     "metadata": {},
     "output_type": "execute_result"
    }
   ],
   "source": [
    "def f(n):\n",
    "    if n<=0 or type(n)==float:\n",
    "        print(\"Function does not exist for non integers\")\n",
    "    elif n==1:\n",
    "        return 1\n",
    "    else:\n",
    "        return f(n-1)+f(n//2)\n",
    "f(12)"
   ]
  },
  {
   "cell_type": "code",
   "execution_count": 2,
   "metadata": {},
   "outputs": [
    {
     "ename": "RecursionError",
     "evalue": "maximum recursion depth exceeded in comparison",
     "output_type": "error",
     "traceback": [
      "\u001b[0;31m---------------------------------------------------------------------------\u001b[0m",
      "\u001b[0;31mRecursionError\u001b[0m                            Traceback (most recent call last)",
      "\u001b[0;32m<ipython-input-2-5d246d07099e>\u001b[0m in \u001b[0;36m<module>\u001b[0;34m\u001b[0m\n\u001b[1;32m      6\u001b[0m \u001b[0;34m\u001b[0m\u001b[0m\n\u001b[1;32m      7\u001b[0m \u001b[0;34m\u001b[0m\u001b[0m\n\u001b[0;32m----> 8\u001b[0;31m \u001b[0mf\u001b[0m\u001b[0;34m(\u001b[0m\u001b[0;36m0\u001b[0m\u001b[0;34m)\u001b[0m\u001b[0;34m\u001b[0m\u001b[0;34m\u001b[0m\u001b[0m\n\u001b[0m\u001b[1;32m      9\u001b[0m \u001b[0;34m\u001b[0m\u001b[0m\n\u001b[1;32m     10\u001b[0m \u001b[0;34m\u001b[0m\u001b[0m\n",
      "\u001b[0;32m<ipython-input-2-5d246d07099e>\u001b[0m in \u001b[0;36mf\u001b[0;34m(n)\u001b[0m\n\u001b[1;32m      3\u001b[0m         \u001b[0;32mreturn\u001b[0m \u001b[0;36m1\u001b[0m\u001b[0;34m\u001b[0m\u001b[0;34m\u001b[0m\u001b[0m\n\u001b[1;32m      4\u001b[0m     \u001b[0;32melse\u001b[0m\u001b[0;34m:\u001b[0m\u001b[0;34m\u001b[0m\u001b[0;34m\u001b[0m\u001b[0m\n\u001b[0;32m----> 5\u001b[0;31m         \u001b[0;32mreturn\u001b[0m \u001b[0mf\u001b[0m\u001b[0;34m(\u001b[0m\u001b[0mn\u001b[0m\u001b[0;34m-\u001b[0m\u001b[0;36m1\u001b[0m\u001b[0;34m)\u001b[0m \u001b[0;34m+\u001b[0m \u001b[0mf\u001b[0m\u001b[0;34m(\u001b[0m\u001b[0mn\u001b[0m\u001b[0;34m//\u001b[0m\u001b[0;36m2\u001b[0m\u001b[0;34m)\u001b[0m\u001b[0;34m\u001b[0m\u001b[0;34m\u001b[0m\u001b[0m\n\u001b[0m\u001b[1;32m      6\u001b[0m \u001b[0;34m\u001b[0m\u001b[0m\n\u001b[1;32m      7\u001b[0m \u001b[0;34m\u001b[0m\u001b[0m\n",
      "... last 1 frames repeated, from the frame below ...\n",
      "\u001b[0;32m<ipython-input-2-5d246d07099e>\u001b[0m in \u001b[0;36mf\u001b[0;34m(n)\u001b[0m\n\u001b[1;32m      3\u001b[0m         \u001b[0;32mreturn\u001b[0m \u001b[0;36m1\u001b[0m\u001b[0;34m\u001b[0m\u001b[0;34m\u001b[0m\u001b[0m\n\u001b[1;32m      4\u001b[0m     \u001b[0;32melse\u001b[0m\u001b[0;34m:\u001b[0m\u001b[0;34m\u001b[0m\u001b[0;34m\u001b[0m\u001b[0m\n\u001b[0;32m----> 5\u001b[0;31m         \u001b[0;32mreturn\u001b[0m \u001b[0mf\u001b[0m\u001b[0;34m(\u001b[0m\u001b[0mn\u001b[0m\u001b[0;34m-\u001b[0m\u001b[0;36m1\u001b[0m\u001b[0;34m)\u001b[0m \u001b[0;34m+\u001b[0m \u001b[0mf\u001b[0m\u001b[0;34m(\u001b[0m\u001b[0mn\u001b[0m\u001b[0;34m//\u001b[0m\u001b[0;36m2\u001b[0m\u001b[0;34m)\u001b[0m\u001b[0;34m\u001b[0m\u001b[0;34m\u001b[0m\u001b[0m\n\u001b[0m\u001b[1;32m      6\u001b[0m \u001b[0;34m\u001b[0m\u001b[0m\n\u001b[1;32m      7\u001b[0m \u001b[0;34m\u001b[0m\u001b[0m\n",
      "\u001b[0;31mRecursionError\u001b[0m: maximum recursion depth exceeded in comparison"
     ]
    }
   ],
   "source": [
    "def f(n):\n",
    "    if n==1:\n",
    "        return 1\n",
    "    else:\n",
    "        return f(n-1) + f(n//2)\n",
    "\n",
    "\n",
    "f(0)\n",
    "\n",
    "\n",
    "\n"
   ]
  },
  {
   "cell_type": "code",
   "execution_count": 28,
   "metadata": {},
   "outputs": [],
   "source": [
    "import  math\n",
    "memory = {1:5}\n",
    "def fun(n):\n",
    "    if n not in memory:\n",
    "        memory[n]=fun(n-1) + fun(n//2)\n",
    "    return \"f(500) is equal to 4953679695 and f() is equal to\" memory[n]"
   ]
  },
  {
   "cell_type": "code",
   "execution_count": 30,
   "metadata": {},
   "outputs": [
    {
     "data": {
      "text/plain": [
       "4953679695"
      ]
     },
     "execution_count": 30,
     "metadata": {},
     "output_type": "execute_result"
    }
   ],
   "source": [
    "fun(500)"
   ]
  },
  {
   "cell_type": "code",
   "execution_count": null,
   "metadata": {},
   "outputs": [],
   "source": []
  }
 ],
 "metadata": {
  "kernelspec": {
   "display_name": "Python 3",
   "language": "python",
   "name": "python3"
  },
  "language_info": {
   "codemirror_mode": {
    "name": "ipython",
    "version": 3
   },
   "file_extension": ".py",
   "mimetype": "text/x-python",
   "name": "python",
   "nbconvert_exporter": "python",
   "pygments_lexer": "ipython3",
   "version": "3.6.8"
  }
 },
 "nbformat": 4,
 "nbformat_minor": 2
}
