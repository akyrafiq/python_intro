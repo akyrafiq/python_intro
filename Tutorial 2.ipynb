{
 "cells": [
  {
   "cell_type": "markdown",
   "metadata": {},
   "source": [
    "# Homework 2"
   ]
  },
  {
   "cell_type": "markdown",
   "metadata": {},
   "source": [
    "### Exercise 2.1: Correctness of the iterative algorithm for the peak problem\n",
    "\n",
    "Recall the definition of the one-dimensional peak problem from Exercise 1.1 and the iterative\n",
    "algorithm for solving it from Exercise 1.2."
   ]
  },
  {
   "cell_type": "code",
   "execution_count": 7,
   "metadata": {},
   "outputs": [],
   "source": [
    "def peak1d_iterative ( A ) :\n",
    "    for i in range (0 , len( A ) -1) :\n",
    "        if A [ i ] > A [ i +1]:\n",
    "            return i\n",
    "    return len( A ) -1"
   ]
  },
  {
   "cell_type": "markdown",
   "metadata": {},
   "source": [
    "Test out this function here:"
   ]
  },
  {
   "cell_type": "code",
   "execution_count": 9,
   "metadata": {},
   "outputs": [
    {
     "data": {
      "text/plain": [
       "0"
      ]
     },
     "execution_count": 9,
     "metadata": {},
     "output_type": "execute_result"
    }
   ],
   "source": [
    "A=[4,3,2,1]\n",
    "peak1d_iterative ( A )"
   ]
  },
  {
   "cell_type": "markdown",
   "metadata": {},
   "source": [
    "(a) Formulate a loop invariant for the for loop.\n",
    "\n",
    "What is a _Loop Invariant_ though?\n",
    "\n",
    "Defintion: A __Loop Invariant__ is ... <_Fill this part yourself_>\n",
    "\n",
    "In our function above, the loop invariant is in the _for-loop_. This is because we repeat everything exactly in the for-loop for each element in $A$, starting from $A_0$ to $A_{N-1}$."
   ]
  },
  {
   "cell_type": "markdown",
   "metadata": {},
   "source": [
    "(b) Use this loop invariant to argue that _peak1d_iterative()_ is correct\n",
    "\n",
    "In the mark scheme it says the following, and I shall talk through it with you guys:\n",
    "\n",
    " __Initialization__: We need to show that the loop invariant is true at the beginning of the for\n",
    "loop when we consider $i = 0$. In this case the loop invariant claims that $[A[0]]$ is sorted\n",
    "in increasing order, which is trivially true.\n",
    "\n",
    "__Maintenance__: We need to show that if the loop invariant is satisfied at the beginning\n",
    "of the for loop in which we consider $i$, then it is true at the beginning of the for loop\n",
    "in which we consider $i+1$. When we consider i, we check whether $A[i] > A[i+1]$ and\n",
    "only proceed to the next iteration if $A[i] < A[i+1]$. So combining with the fact that the\n",
    "loop invariant was true at the beginning of the iteration in which we consider $i$, we then\n",
    "have $A[0] < ... < A[i] < A[i+1]$, which shows that the loop invariant is satisfied at the\n",
    "beginning of the iteration in which we consider $i+1$.\n",
    "\n",
    "__Termination__: There are two possible reasons for termination. One reason is that we stop\n",
    "early because for some $i$, $A[i] > A[i+1]$. In this case, we know from the loop invariant\n",
    "that $[A[0], ..., A[i]]$ is sorted in increasing order. So $A[i]$ is the peak, and our decision\n",
    "to return i is correct. The other reason for termination is that we exhaust the for loop.\n",
    "In this case, plugging $i = len(A)-1$ into the loop invariant we know that $[A[0], ..., A[\n",
    "len(A)-1]$ is sorted in increasing order. So $A[len(A)-1]$ is the peak, and our decision to\n",
    "return $len(A)-1$ is correct."
   ]
  },
  {
   "cell_type": "markdown",
   "metadata": {},
   "source": [
    "### Exercise 2.2: Running time of the iterative algorithm for the peak problem\n",
    "\n",
    "In this exercise you will examine the worst-case running time of the iterative algorithm from\n",
    "Exercise 1.2 assuming constant cost $c_l > 0$ for each line $l$. Let $n :=len(A)$ denote the length of\n",
    "the list."
   ]
  },
  {
   "cell_type": "code",
   "execution_count": 18,
   "metadata": {},
   "outputs": [
    {
     "ename": "SyntaxError",
     "evalue": "'return' outside function (<ipython-input-18-144cfd3d270e>, line 3)",
     "output_type": "error",
     "traceback": [
      "\u001b[0;36m  File \u001b[0;32m\"<ipython-input-18-144cfd3d270e>\"\u001b[0;36m, line \u001b[0;32m3\u001b[0m\n\u001b[0;31m    return i\u001b[0m\n\u001b[0m    ^\u001b[0m\n\u001b[0;31mSyntaxError\u001b[0m\u001b[0;31m:\u001b[0m 'return' outside function\n"
     ]
    }
   ],
   "source": [
    "for i in range (0 , len( A ) -1):\n",
    "    if A [ i ] > A [ i +1]:\n",
    "        return i\n",
    "return len( A ) -1"
   ]
  },
  {
   "cell_type": "markdown",
   "metadata": {},
   "source": [
    "(a) Derive a formula for the best-case running time $T_{best}(n)$.\n",
    "\n",
    "\n",
    "(b) Derive a formula for the worst-case running time $T_{worst}(n)$.\n",
    "\n",
    "To test this, we shall  shall alter the above algorithm to create a _Loop Counter_. This is going to be an exercise for you guys to do now. Here is a draft version, which doesn't quite do the job."
   ]
  },
  {
   "cell_type": "markdown",
   "metadata": {},
   "source": [
    "This is a function which measures the _cost_ of running our algorithm. The inputs are the vector of costs and the list we wish to find the peak element for. Firstly's just perform the algorithm as usual:"
   ]
  },
  {
   "cell_type": "code",
   "execution_count": null,
   "metadata": {},
   "outputs": [],
   "source": [
    "X=[4,1]\n",
    "peak1d_iterative (X)"
   ]
  },
  {
   "cell_type": "markdown",
   "metadata": {},
   "source": [
    "We now introduce the cost vector and now play around to see what the cost of the algorithm will be while running it on a variety of lists."
   ]
  },
  {
   "cell_type": "code",
   "execution_count": null,
   "metadata": {},
   "outputs": [],
   "source": [
    "C=[1,1,1,1]\n",
    "Peak_count(X,C)"
   ]
  },
  {
   "cell_type": "markdown",
   "metadata": {},
   "source": [
    "In order to genralise, we shall use the _sympy_ package to use variables as opposed to fixed numbers."
   ]
  },
  {
   "cell_type": "code",
   "execution_count": 1,
   "metadata": {},
   "outputs": [],
   "source": [
    "import sympy\n",
    "sympy.init_printing()"
   ]
  },
  {
   "cell_type": "code",
   "execution_count": 2,
   "metadata": {},
   "outputs": [],
   "source": [
    "c0,c1,c2,c3 = sympy.symbols((\"c_1\",\"c_2\",\"c_3\",\"c_4\"))\n",
    "Gen_Cost=[c0,c1,c2,c3]"
   ]
  },
  {
   "cell_type": "code",
   "execution_count": 5,
   "metadata": {},
   "outputs": [],
   "source": [
    "def Peak_count(X,C):\n",
    "    Count=C[0]\n",
    "    for i in range (0 , len( X ) -1) :\n",
    "        Count=Count+C[1]\n",
    "        Count=Count+C[2]\n",
    "        if X [ i ] > X [ i +1]:\n",
    "            Count=Count+C[2]\n",
    "    Count=Count+C[3]\n",
    "    return Count"
   ]
  },
  {
   "cell_type": "code",
   "execution_count": 43,
   "metadata": {},
   "outputs": [],
   "source": [
    "def Peak_count(X,C):\n",
    "    Count=0\n",
    "    for i in range (0 , len( X ) -1) :\n",
    "        Count=Count+C[0]\n",
    "        Count=Count+C[1]\n",
    "        if X [ i ] > X [ i +1]:\n",
    "            Count=Count+C[2]\n",
    "    if max(X)==X[-1]:\n",
    "            Count=Count+C[3]\n",
    "    return Count"
   ]
  },
  {
   "cell_type": "code",
   "execution_count": 40,
   "metadata": {},
   "outputs": [
    {
     "data": {
      "image/png": "[encoded data removed]",
      "text/latex": [
       "$$5 c_{1} + 5 c_{2} + 5 c_{3}$$"
      ],
      "text/plain": [
       "5⋅c₁ + 5⋅c₂ + 5⋅c₃"
      ]
     },
     "execution_count": 40,
     "metadata": {},
     "output_type": "execute_result"
    }
   ],
   "source": [
    "Y=[6,5,4,3,2,1]\n",
    "Peak_count(Y,Gen_Cost)"
   ]
  },
  {
   "cell_type": "code",
   "execution_count": null,
   "metadata": {},
   "outputs": [],
   "source": []
  },
  {
   "cell_type": "markdown",
   "metadata": {},
   "source": [
    "### Exercise 2.3: Squirrels of the Square Mile\n",
    "\n",
    "You are consulting for a small computation-intensive investment company, Squirrels of the Square\n",
    "Mile, which has the following type of problem that they want to solve over and over. A typical\n",
    "instance of the problem is the following. They’re doing a simulation in which they look at $n$\n",
    "consecutive days of a given stock, at some point in the past. Let’s number the days $i = 1, 2, ..., n$;\n",
    "for each day $i$, they have a price $p(i)$ per share for the stock on that day. (We’ll assume for\n",
    "simplicity that the price was fixed during each day.) Suppose during this time period, they\n",
    "wanted to buy 1000 shares on some day and sell all these shares on some (later) day. They want\n",
    "to know how: When should they have bought and when should they have sold in order to have\n",
    "made as much money as possible?"
   ]
  },
  {
   "cell_type": "markdown",
   "metadata": {},
   "source": [
    "(a) Describe a divide-and-conquer algorithm (in plain English) that recursively splits a problem\n",
    "of size $n$ into two problems of size $n/2$, and computes a solution to the problem of size $n$\n",
    "from the solutions to the problems of size $n/2$.\n",
    "\n",
    "The basic idea here is that if we split a problem on $n$ days into a first and a second half,\n",
    "say days $1, . . . , k$ and days $k + 1, . . . , n$. Then the optimal solution falls into one of the\n",
    "following three categories:\n",
    "- The best start and end date is fully contained in $1, . . . , k$.\n",
    "- The best start and end date is fully contained in $k + 1, . . . , n$.\n",
    "- The start date is in $1, . . . , k$ and the end date in $k + 1, . . . , n$.\n",
    "In the first two cases the best start and end date is the optimal solution to a smaller\n",
    "problem, namely either that of finding the optimal start and end day in 1, . . . , k or that of\n",
    "finding the optimal start and end day in k + 1, . . . , n. In the third case the best start date\n",
    "is the $i$ in $1, . . . , k$ with minimum $p(i)$ and the best end date is the $j$ in $k + 1, . . . , n$ with\n",
    "maximum $p(j)$.\n",
    "\n",
    "This translates into a recursive algorithm where we recursively call the algorithm, once on\n",
    "$1, . . . , k$ and once on $k + 1, . . . , n$. And then in the merge step we additionally compute the\n",
    "min and max in the first and the second half respectively. We return the best of the three\n",
    "solutions.\n",
    "\n",
    "\n",
    "(b) Implement this algorithm in Python.\n",
    "\n",
    "Below is the algorithm provided in the mark scheme which we shall go over."
   ]
  },
  {
   "cell_type": "code",
   "execution_count": 47,
   "metadata": {},
   "outputs": [],
   "source": [
    "def invest_Prac(A,i,j):\n",
    "    m=(i+j)//2\n",
    "    if i==j:\n",
    "        return 0\n",
    "    LEFT=invest_Prac(A,i,m)\n",
    "    RIGHT=invest_Prac(A,m+1,j)\n",
    "    \n",
    "    Diff=max(A[m+1:j+1])-min(A[i:m+1])\n",
    "    \n",
    "    return max(LEFT,RIGHT,Diff)"
   ]
  },
  {
   "cell_type": "code",
   "execution_count": 48,
   "metadata": {},
   "outputs": [
    {
     "ename": "ValueError",
     "evalue": "min() arg is an empty sequence",
     "output_type": "error",
     "traceback": [
      "\u001b[0;31m---------------------------------------------------------------------------\u001b[0m",
      "\u001b[0;31mValueError\u001b[0m                                Traceback (most recent call last)",
      "\u001b[0;32m<ipython-input-48-97bba3ce544d>\u001b[0m in \u001b[0;36m<module>\u001b[0;34m\u001b[0m\n\u001b[1;32m      1\u001b[0m \u001b[0mA\u001b[0m\u001b[0;34m=\u001b[0m\u001b[0;34m[\u001b[0m\u001b[0;36m1\u001b[0m\u001b[0;34m,\u001b[0m\u001b[0;36m10\u001b[0m\u001b[0;34m,\u001b[0m\u001b[0;36m2\u001b[0m\u001b[0;34m,\u001b[0m\u001b[0;36m2\u001b[0m\u001b[0;34m]\u001b[0m\u001b[0;34m\u001b[0m\u001b[0;34m\u001b[0m\u001b[0m\n\u001b[0;32m----> 2\u001b[0;31m \u001b[0minvest_Prac\u001b[0m\u001b[0;34m(\u001b[0m\u001b[0mA\u001b[0m\u001b[0;34m,\u001b[0m\u001b[0;36m1\u001b[0m\u001b[0;34m,\u001b[0m\u001b[0;36m2\u001b[0m\u001b[0;34m)\u001b[0m\u001b[0;34m\u001b[0m\u001b[0;34m\u001b[0m\u001b[0m\n\u001b[0m",
      "\u001b[0;32m<ipython-input-47-045c034565be>\u001b[0m in \u001b[0;36minvest_Prac\u001b[0;34m(A, i, j)\u001b[0m\n\u001b[1;32m      6\u001b[0m     \u001b[0mRIGHT\u001b[0m\u001b[0;34m=\u001b[0m\u001b[0minvest_Prac\u001b[0m\u001b[0;34m(\u001b[0m\u001b[0mA\u001b[0m\u001b[0;34m,\u001b[0m\u001b[0mm\u001b[0m\u001b[0;34m+\u001b[0m\u001b[0;36m1\u001b[0m\u001b[0;34m,\u001b[0m\u001b[0mj\u001b[0m\u001b[0;34m)\u001b[0m\u001b[0;34m\u001b[0m\u001b[0;34m\u001b[0m\u001b[0m\n\u001b[1;32m      7\u001b[0m \u001b[0;34m\u001b[0m\u001b[0m\n\u001b[0;32m----> 8\u001b[0;31m     \u001b[0mDiff\u001b[0m\u001b[0;34m=\u001b[0m\u001b[0mmax\u001b[0m\u001b[0;34m(\u001b[0m\u001b[0mA\u001b[0m\u001b[0;34m[\u001b[0m\u001b[0mm\u001b[0m\u001b[0;34m+\u001b[0m\u001b[0;36m1\u001b[0m\u001b[0;34m:\u001b[0m\u001b[0mj\u001b[0m\u001b[0;34m+\u001b[0m\u001b[0;36m1\u001b[0m\u001b[0;34m]\u001b[0m\u001b[0;34m)\u001b[0m\u001b[0;34m-\u001b[0m\u001b[0mmin\u001b[0m\u001b[0;34m(\u001b[0m\u001b[0mA\u001b[0m\u001b[0;34m[\u001b[0m\u001b[0mi\u001b[0m\u001b[0;34m:\u001b[0m\u001b[0mm\u001b[0m\u001b[0;34m]\u001b[0m\u001b[0;34m)\u001b[0m\u001b[0;34m\u001b[0m\u001b[0;34m\u001b[0m\u001b[0m\n\u001b[0m\u001b[1;32m      9\u001b[0m \u001b[0;34m\u001b[0m\u001b[0m\n\u001b[1;32m     10\u001b[0m     \u001b[0;32mreturn\u001b[0m \u001b[0mmax\u001b[0m\u001b[0;34m(\u001b[0m\u001b[0mLEFT\u001b[0m\u001b[0;34m,\u001b[0m\u001b[0mRIGHT\u001b[0m\u001b[0;34m,\u001b[0m\u001b[0mDiff\u001b[0m\u001b[0;34m)\u001b[0m\u001b[0;34m\u001b[0m\u001b[0;34m\u001b[0m\u001b[0m\n",
      "\u001b[0;31mValueError\u001b[0m: min() arg is an empty sequence"
     ]
    }
   ],
   "source": [
    "A=[1,10,2,2]\n",
    "invest_Prac(A,1,2)"
   ]
  },
  {
   "cell_type": "markdown",
   "metadata": {},
   "source": [
    "## Extra stuff: Using Python (and Machine Learning) to estimate house prices"
   ]
  },
  {
   "cell_type": "markdown",
   "metadata": {},
   "source": [
    "### Step 1: Import Packages"
   ]
  },
  {
   "cell_type": "code",
   "execution_count": 49,
   "metadata": {},
   "outputs": [],
   "source": [
    "import pandas as pd\n",
    "from sklearn.model_selection import train_test_split\n",
    "from sklearn import ensemble\n",
    "from sklearn.metrics import mean_absolute_error\n",
    "from sklearn.externals import joblib"
   ]
  },
  {
   "cell_type": "markdown",
   "metadata": {},
   "source": [
    "### Step 2: Load the data set and tidy it up"
   ]
  },
  {
   "cell_type": "code",
   "execution_count": 50,
   "metadata": {},
   "outputs": [
    {
     "data": {
      "text/html": [
       "<div>\n",
       "<style scoped>\n",
       "    .dataframe tbody tr th:only-of-type {\n",
       "        vertical-align: middle;\n",
       "    }\n",
       "\n",
       "    .dataframe tbody tr th {\n",
       "        vertical-align: top;\n",
       "    }\n",
       "\n",
       "    .dataframe thead th {\n",
       "        text-align: right;\n",
       "    }\n",
       "</style>\n",
       "<table border=\"1\" class=\"dataframe\">\n",
       "  <thead>\n",
       "    <tr style=\"text-align: right;\">\n",
       "      <th></th>\n",
       "      <th>year_built</th>\n",
       "      <th>stories</th>\n",
       "      <th>num_bedrooms</th>\n",
       "      <th>full_bathrooms</th>\n",
       "      <th>half_bathrooms</th>\n",
       "      <th>livable_sqft</th>\n",
       "      <th>total_sqft</th>\n",
       "      <th>garage_type</th>\n",
       "      <th>garage_sqft</th>\n",
       "      <th>carport_sqft</th>\n",
       "      <th>has_fireplace</th>\n",
       "      <th>has_pool</th>\n",
       "      <th>has_central_heating</th>\n",
       "      <th>has_central_cooling</th>\n",
       "      <th>house_number</th>\n",
       "      <th>street_name</th>\n",
       "      <th>unit_number</th>\n",
       "      <th>city</th>\n",
       "      <th>zip_code</th>\n",
       "      <th>sale_price</th>\n",
       "    </tr>\n",
       "  </thead>\n",
       "  <tbody>\n",
       "    <tr>\n",
       "      <td>0</td>\n",
       "      <td>1978</td>\n",
       "      <td>1</td>\n",
       "      <td>4</td>\n",
       "      <td>1</td>\n",
       "      <td>1</td>\n",
       "      <td>1689</td>\n",
       "      <td>1859</td>\n",
       "      <td>attached</td>\n",
       "      <td>508</td>\n",
       "      <td>0</td>\n",
       "      <td>True</td>\n",
       "      <td>False</td>\n",
       "      <td>True</td>\n",
       "      <td>True</td>\n",
       "      <td>42670</td>\n",
       "      <td>Lopez Crossing</td>\n",
       "      <td>NaN</td>\n",
       "      <td>Hallfort</td>\n",
       "      <td>10907</td>\n",
       "      <td>270897.0</td>\n",
       "    </tr>\n",
       "    <tr>\n",
       "      <td>1</td>\n",
       "      <td>1958</td>\n",
       "      <td>1</td>\n",
       "      <td>3</td>\n",
       "      <td>1</td>\n",
       "      <td>1</td>\n",
       "      <td>1984</td>\n",
       "      <td>2002</td>\n",
       "      <td>attached</td>\n",
       "      <td>462</td>\n",
       "      <td>0</td>\n",
       "      <td>True</td>\n",
       "      <td>False</td>\n",
       "      <td>True</td>\n",
       "      <td>True</td>\n",
       "      <td>5194</td>\n",
       "      <td>Gardner Park</td>\n",
       "      <td>NaN</td>\n",
       "      <td>Hallfort</td>\n",
       "      <td>10907</td>\n",
       "      <td>302404.0</td>\n",
       "    </tr>\n",
       "    <tr>\n",
       "      <td>2</td>\n",
       "      <td>2002</td>\n",
       "      <td>1</td>\n",
       "      <td>3</td>\n",
       "      <td>2</td>\n",
       "      <td>0</td>\n",
       "      <td>1581</td>\n",
       "      <td>1578</td>\n",
       "      <td>none</td>\n",
       "      <td>0</td>\n",
       "      <td>625</td>\n",
       "      <td>False</td>\n",
       "      <td>False</td>\n",
       "      <td>True</td>\n",
       "      <td>True</td>\n",
       "      <td>4366</td>\n",
       "      <td>Harding Islands</td>\n",
       "      <td>NaN</td>\n",
       "      <td>Lake Christinaport</td>\n",
       "      <td>11203</td>\n",
       "      <td>2519996.0</td>\n",
       "    </tr>\n",
       "    <tr>\n",
       "      <td>3</td>\n",
       "      <td>2004</td>\n",
       "      <td>1</td>\n",
       "      <td>4</td>\n",
       "      <td>2</td>\n",
       "      <td>0</td>\n",
       "      <td>1829</td>\n",
       "      <td>2277</td>\n",
       "      <td>attached</td>\n",
       "      <td>479</td>\n",
       "      <td>0</td>\n",
       "      <td>True</td>\n",
       "      <td>False</td>\n",
       "      <td>True</td>\n",
       "      <td>True</td>\n",
       "      <td>3302</td>\n",
       "      <td>Michelle Highway</td>\n",
       "      <td>NaN</td>\n",
       "      <td>Lake Christinaport</td>\n",
       "      <td>11203</td>\n",
       "      <td>197193.0</td>\n",
       "    </tr>\n",
       "    <tr>\n",
       "      <td>4</td>\n",
       "      <td>2006</td>\n",
       "      <td>1</td>\n",
       "      <td>4</td>\n",
       "      <td>2</td>\n",
       "      <td>0</td>\n",
       "      <td>1580</td>\n",
       "      <td>1749</td>\n",
       "      <td>attached</td>\n",
       "      <td>430</td>\n",
       "      <td>0</td>\n",
       "      <td>True</td>\n",
       "      <td>False</td>\n",
       "      <td>True</td>\n",
       "      <td>True</td>\n",
       "      <td>582</td>\n",
       "      <td>Jacob Cape</td>\n",
       "      <td>NaN</td>\n",
       "      <td>Lake Christinaport</td>\n",
       "      <td>11203</td>\n",
       "      <td>207897.0</td>\n",
       "    </tr>\n",
       "  </tbody>\n",
       "</table>\n",
       "</div>"
      ],
      "text/plain": [
       "   year_built  stories  num_bedrooms  full_bathrooms  half_bathrooms  \\\n",
       "0        1978        1             4               1               1   \n",
       "1        1958        1             3               1               1   \n",
       "2        2002        1             3               2               0   \n",
       "3        2004        1             4               2               0   \n",
       "4        2006        1             4               2               0   \n",
       "\n",
       "   livable_sqft  total_sqft garage_type  garage_sqft  carport_sqft  \\\n",
       "0          1689        1859    attached          508             0   \n",
       "1          1984        2002    attached          462             0   \n",
       "2          1581        1578        none            0           625   \n",
       "3          1829        2277    attached          479             0   \n",
       "4          1580        1749    attached          430             0   \n",
       "\n",
       "   has_fireplace  has_pool  has_central_heating  has_central_cooling  \\\n",
       "0           True     False                 True                 True   \n",
       "1           True     False                 True                 True   \n",
       "2          False     False                 True                 True   \n",
       "3           True     False                 True                 True   \n",
       "4           True     False                 True                 True   \n",
       "\n",
       "   house_number       street_name  unit_number                city  zip_code  \\\n",
       "0         42670    Lopez Crossing          NaN            Hallfort     10907   \n",
       "1          5194      Gardner Park          NaN            Hallfort     10907   \n",
       "2          4366   Harding Islands          NaN  Lake Christinaport     11203   \n",
       "3          3302  Michelle Highway          NaN  Lake Christinaport     11203   \n",
       "4           582        Jacob Cape          NaN  Lake Christinaport     11203   \n",
       "\n",
       "   sale_price  \n",
       "0    270897.0  \n",
       "1    302404.0  \n",
       "2   2519996.0  \n",
       "3    197193.0  \n",
       "4    207897.0  "
      ]
     },
     "execution_count": 50,
     "metadata": {},
     "output_type": "execute_result"
    }
   ],
   "source": [
    "df = pd.read_csv(\"ml_house_data_set.csv\")\n",
    "df.head()"
   ]
  },
  {
   "cell_type": "code",
   "execution_count": 51,
   "metadata": {},
   "outputs": [],
   "source": [
    "# Remove the fields from the data set that we don't want to include in our model\n",
    "del df['house_number']\n",
    "del df['unit_number']\n",
    "del df['street_name']\n",
    "del df['zip_code']"
   ]
  },
  {
   "cell_type": "code",
   "execution_count": 52,
   "metadata": {},
   "outputs": [],
   "source": [
    "# Replace categorical data with one-hot encoded data\n",
    "features_df = pd.get_dummies(df, columns=['garage_type', 'city'])"
   ]
  },
  {
   "cell_type": "code",
   "execution_count": 53,
   "metadata": {},
   "outputs": [],
   "source": [
    "# Remove the sale price from the feature data\n",
    "del features_df['sale_price']"
   ]
  },
  {
   "cell_type": "code",
   "execution_count": 54,
   "metadata": {},
   "outputs": [
    {
     "data": {
      "text/html": [
       "<div>\n",
       "<style scoped>\n",
       "    .dataframe tbody tr th:only-of-type {\n",
       "        vertical-align: middle;\n",
       "    }\n",
       "\n",
       "    .dataframe tbody tr th {\n",
       "        vertical-align: top;\n",
       "    }\n",
       "\n",
       "    .dataframe thead th {\n",
       "        text-align: right;\n",
       "    }\n",
       "</style>\n",
       "<table border=\"1\" class=\"dataframe\">\n",
       "  <thead>\n",
       "    <tr style=\"text-align: right;\">\n",
       "      <th></th>\n",
       "      <th>year_built</th>\n",
       "      <th>stories</th>\n",
       "      <th>num_bedrooms</th>\n",
       "      <th>full_bathrooms</th>\n",
       "      <th>half_bathrooms</th>\n",
       "      <th>livable_sqft</th>\n",
       "      <th>total_sqft</th>\n",
       "      <th>garage_type</th>\n",
       "      <th>garage_sqft</th>\n",
       "      <th>carport_sqft</th>\n",
       "      <th>has_fireplace</th>\n",
       "      <th>has_pool</th>\n",
       "      <th>has_central_heating</th>\n",
       "      <th>has_central_cooling</th>\n",
       "      <th>city</th>\n",
       "      <th>sale_price</th>\n",
       "    </tr>\n",
       "  </thead>\n",
       "  <tbody>\n",
       "    <tr>\n",
       "      <td>0</td>\n",
       "      <td>1978</td>\n",
       "      <td>1</td>\n",
       "      <td>4</td>\n",
       "      <td>1</td>\n",
       "      <td>1</td>\n",
       "      <td>1689</td>\n",
       "      <td>1859</td>\n",
       "      <td>attached</td>\n",
       "      <td>508</td>\n",
       "      <td>0</td>\n",
       "      <td>True</td>\n",
       "      <td>False</td>\n",
       "      <td>True</td>\n",
       "      <td>True</td>\n",
       "      <td>Hallfort</td>\n",
       "      <td>270897.0</td>\n",
       "    </tr>\n",
       "    <tr>\n",
       "      <td>1</td>\n",
       "      <td>1958</td>\n",
       "      <td>1</td>\n",
       "      <td>3</td>\n",
       "      <td>1</td>\n",
       "      <td>1</td>\n",
       "      <td>1984</td>\n",
       "      <td>2002</td>\n",
       "      <td>attached</td>\n",
       "      <td>462</td>\n",
       "      <td>0</td>\n",
       "      <td>True</td>\n",
       "      <td>False</td>\n",
       "      <td>True</td>\n",
       "      <td>True</td>\n",
       "      <td>Hallfort</td>\n",
       "      <td>302404.0</td>\n",
       "    </tr>\n",
       "    <tr>\n",
       "      <td>2</td>\n",
       "      <td>2002</td>\n",
       "      <td>1</td>\n",
       "      <td>3</td>\n",
       "      <td>2</td>\n",
       "      <td>0</td>\n",
       "      <td>1581</td>\n",
       "      <td>1578</td>\n",
       "      <td>none</td>\n",
       "      <td>0</td>\n",
       "      <td>625</td>\n",
       "      <td>False</td>\n",
       "      <td>False</td>\n",
       "      <td>True</td>\n",
       "      <td>True</td>\n",
       "      <td>Lake Christinaport</td>\n",
       "      <td>2519996.0</td>\n",
       "    </tr>\n",
       "    <tr>\n",
       "      <td>3</td>\n",
       "      <td>2004</td>\n",
       "      <td>1</td>\n",
       "      <td>4</td>\n",
       "      <td>2</td>\n",
       "      <td>0</td>\n",
       "      <td>1829</td>\n",
       "      <td>2277</td>\n",
       "      <td>attached</td>\n",
       "      <td>479</td>\n",
       "      <td>0</td>\n",
       "      <td>True</td>\n",
       "      <td>False</td>\n",
       "      <td>True</td>\n",
       "      <td>True</td>\n",
       "      <td>Lake Christinaport</td>\n",
       "      <td>197193.0</td>\n",
       "    </tr>\n",
       "    <tr>\n",
       "      <td>4</td>\n",
       "      <td>2006</td>\n",
       "      <td>1</td>\n",
       "      <td>4</td>\n",
       "      <td>2</td>\n",
       "      <td>0</td>\n",
       "      <td>1580</td>\n",
       "      <td>1749</td>\n",
       "      <td>attached</td>\n",
       "      <td>430</td>\n",
       "      <td>0</td>\n",
       "      <td>True</td>\n",
       "      <td>False</td>\n",
       "      <td>True</td>\n",
       "      <td>True</td>\n",
       "      <td>Lake Christinaport</td>\n",
       "      <td>207897.0</td>\n",
       "    </tr>\n",
       "  </tbody>\n",
       "</table>\n",
       "</div>"
      ],
      "text/plain": [
       "   year_built  stories  num_bedrooms  full_bathrooms  half_bathrooms  \\\n",
       "0        1978        1             4               1               1   \n",
       "1        1958        1             3               1               1   \n",
       "2        2002        1             3               2               0   \n",
       "3        2004        1             4               2               0   \n",
       "4        2006        1             4               2               0   \n",
       "\n",
       "   livable_sqft  total_sqft garage_type  garage_sqft  carport_sqft  \\\n",
       "0          1689        1859    attached          508             0   \n",
       "1          1984        2002    attached          462             0   \n",
       "2          1581        1578        none            0           625   \n",
       "3          1829        2277    attached          479             0   \n",
       "4          1580        1749    attached          430             0   \n",
       "\n",
       "   has_fireplace  has_pool  has_central_heating  has_central_cooling  \\\n",
       "0           True     False                 True                 True   \n",
       "1           True     False                 True                 True   \n",
       "2          False     False                 True                 True   \n",
       "3           True     False                 True                 True   \n",
       "4           True     False                 True                 True   \n",
       "\n",
       "                 city  sale_price  \n",
       "0            Hallfort    270897.0  \n",
       "1            Hallfort    302404.0  \n",
       "2  Lake Christinaport   2519996.0  \n",
       "3  Lake Christinaport    197193.0  \n",
       "4  Lake Christinaport    207897.0  "
      ]
     },
     "execution_count": 54,
     "metadata": {},
     "output_type": "execute_result"
    }
   ],
   "source": [
    "df.head()"
   ]
  },
  {
   "cell_type": "markdown",
   "metadata": {},
   "source": [
    "### Step 3: The Machine Learning Procedure"
   ]
  },
  {
   "cell_type": "code",
   "execution_count": null,
   "metadata": {},
   "outputs": [],
   "source": [
    "# Create the X and y arrays\n",
    "X = features_df.as_matrix()\n",
    "y = df['sale_price'].as_matrix()"
   ]
  },
  {
   "cell_type": "code",
   "execution_count": null,
   "metadata": {},
   "outputs": [],
   "source": [
    "# Split the data set in a training set (70%) and a test set (30%)\n",
    "X_train, X_test, y_train, y_test = train_test_split(X, y, test_size=0.3, random_state=0)"
   ]
  },
  {
   "cell_type": "code",
   "execution_count": null,
   "metadata": {},
   "outputs": [],
   "source": [
    "# Fit regression model\n",
    "model = ensemble.GradientBoostingRegressor(\n",
    "    n_estimators=1000,\n",
    "    learning_rate=0.1,\n",
    "    max_depth=6,\n",
    "    min_samples_leaf=9,\n",
    "    max_features=0.1,\n",
    "    loss='huber',\n",
    "    random_state=0\n",
    ")\n",
    "model.fit(X_train, y_train)"
   ]
  },
  {
   "cell_type": "code",
   "execution_count": null,
   "metadata": {},
   "outputs": [],
   "source": [
    "# Save the trained model to a file so we can use it in other programs\n",
    "joblib.dump(model, 'trained_house_classifier_model.pkl')"
   ]
  },
  {
   "cell_type": "code",
   "execution_count": null,
   "metadata": {},
   "outputs": [],
   "source": [
    "# Find the error rate on the training set\n",
    "mse = mean_absolute_error(y_train, model.predict(X_train))\n",
    "print(\"Training Set Mean Absolute Error: %.4f\" % mse)"
   ]
  },
  {
   "cell_type": "code",
   "execution_count": null,
   "metadata": {},
   "outputs": [],
   "source": [
    "# Find the error rate on the test set\n",
    "mse = mean_absolute_error(y_test, model.predict(X_test))\n",
    "print(\"Test Set Mean Absolute Error: %.4f\" % mse)"
   ]
  },
  {
   "cell_type": "code",
   "execution_count": null,
   "metadata": {},
   "outputs": [],
   "source": [
    "#Do Next Week:More on Running Times\n",
    "#2.3(b)"
   ]
  }
 ],
 "metadata": {
  "kernelspec": {
   "display_name": "Python 3",
   "language": "python",
   "name": "python3"
  },
  "language_info": {
   "codemirror_mode": {
    "name": "ipython",
    "version": 3
   },
   "file_extension": ".py",
   "mimetype": "text/x-python",
   "name": "python",
   "nbconvert_exporter": "python",
   "pygments_lexer": "ipython3",
   "version": "3.6.8"
  }
 },
 "nbformat": 4,
 "nbformat_minor": 2
}
